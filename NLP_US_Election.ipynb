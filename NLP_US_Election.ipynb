{
  "nbformat": 4,
  "nbformat_minor": 0,
  "metadata": {
    "colab": {
      "name": "NLP_US_Election.ipynb",
      "provenance": []
    },
    "kernelspec": {
      "name": "python3",
      "display_name": "Python 3"
    },
    "language_info": {
      "name": "python"
    }
  },
  "cells": [
    {
      "cell_type": "code",
      "metadata": {
        "id": "65jh-sfxLcdt"
      },
      "source": [
        "import nltk\n"
      ],
      "execution_count": 12,
      "outputs": []
    },
    {
      "cell_type": "markdown",
      "metadata": {
        "id": "len1Ck2Pab_O"
      },
      "source": [
        "### TO FIND MOST FREQUENT WORDS IN 2020 US ELECTION WIKIPEDIA PAGE"
      ]
    },
    {
      "cell_type": "code",
      "metadata": {
        "id": "VNHahfmBPhU-"
      },
      "source": [
        "from urllib.request import urlopen\n",
        "from bs4 import BeautifulSoup\n",
        "html = urlopen(\"https://en.wikipedia.org/wiki/2020_United_States_presidential_election\")\n",
        "raw_text = BeautifulSoup(html.read());\n",
        "text= raw_text.get_text(strip=True) #remove html tags by strip=True\n"
      ],
      "execution_count": 13,
      "outputs": []
    },
    {
      "cell_type": "code",
      "metadata": {
        "colab": {
          "base_uri": "https://localhost:8080/"
        },
        "id": "4qI3VcSvQCCf",
        "outputId": "aecd7e9d-476f-40bf-ea1e-2f3cc15469ff"
      },
      "source": [
        "nltk.download('punkt')\n",
        "#tokens = [t for t in text.split()]\n",
        "tokens = nltk.word_tokenize(text) #tokenize the words\n",
        "tokens = [token for token in tokens if token.isalnum()] #remove puntuation\n"
      ],
      "execution_count": 14,
      "outputs": [
        {
          "output_type": "stream",
          "text": [
            "[nltk_data] Downloading package punkt to /root/nltk_data...\n",
            "[nltk_data]   Package punkt is already up-to-date!\n"
          ],
          "name": "stdout"
        }
      ]
    },
    {
      "cell_type": "code",
      "metadata": {
        "id": "T0GLXQpIeamk"
      },
      "source": [
        "# remove all words starting with 'wg' as i see some some  more text cleaning required\n",
        "#also remove token such as y1 y2 y3 etc\n",
        "tokens_new  = tokens[:]\n",
        "for token in tokens:\n",
        "  if (token.startswith('w')) and (token[1]=='g'):\n",
        "     tokens_new.remove(token)\n",
        "  if (token == 'y1') or (token=='y2') or (token=='y3') or (token=='How') or (token=='The') or (token=='x'):\n",
        "    tokens_new.remove(token)\n"
      ],
      "execution_count": 15,
      "outputs": []
    },
    {
      "cell_type": "code",
      "metadata": {
        "colab": {
          "base_uri": "https://localhost:8080/"
        },
        "id": "IjfI-O3CRUYh",
        "outputId": "f12bedc4-6151-45ef-8ca2-567843ee0d24"
      },
      "source": [
        "#remove stopwords from tokens\n",
        "from nltk.corpus import stopwords\n",
        "nltk.download('stopwords')\n",
        "stopwords = stopwords.words('english')\n",
        "clean_tokens  = tokens_new[:]\n",
        "for token in tokens_new:\n",
        "  if token in stopwords:\n",
        "    clean_tokens.remove(token)"
      ],
      "execution_count": 16,
      "outputs": [
        {
          "output_type": "stream",
          "text": [
            "[nltk_data] Downloading package stopwords to /root/nltk_data...\n",
            "[nltk_data]   Package stopwords is already up-to-date!\n"
          ],
          "name": "stdout"
        }
      ]
    },
    {
      "cell_type": "code",
      "metadata": {
        "colab": {
          "base_uri": "https://localhost:8080/"
        },
        "id": "gC_232-_Rkk8",
        "outputId": "6c396a96-36d4-4e65-e6b7-b65567965af4"
      },
      "source": [
        "freq = nltk.FreqDist(clean_tokens) #frequency of words and their distribution\n",
        "count=0 # we will display ony first 25 words and their distribution\n",
        "for key,value in freq.items():\n",
        "  print(key,value)\n",
        "  count +=1\n",
        "  if count == 25:\n",
        "    break"
      ],
      "execution_count": 17,
      "outputs": [
        {
          "output_type": "stream",
          "text": [
            "2020 827\n",
            "United 81\n",
            "States 97\n",
            "presidential 131\n",
            "election 272\n",
            "1 53\n",
            "dmy 1\n",
            "January 71\n",
            "February 19\n",
            "March 32\n",
            "April 26\n",
            "May 30\n",
            "June 48\n",
            "July 53\n",
            "August 47\n",
            "September 105\n",
            "October 158\n",
            "November 286\n",
            "December 85\n",
            "0 29\n",
            "view 3\n",
            "null 1\n",
            "CS1 2\n",
            "maint 5\n",
            "discouraged 5\n"
          ],
          "name": "stdout"
        }
      ]
    },
    {
      "cell_type": "code",
      "metadata": {
        "colab": {
          "base_uri": "https://localhost:8080/",
          "height": 386
        },
        "id": "D0zmfdwvTpI9",
        "outputId": "2a50c3b2-1e93-4790-cc3e-1a3a243e0b24"
      },
      "source": [
        "# plot the top 20 frequency of words \n",
        "import matplotlib.pyplot as plt\n",
        "print('TOP 20 MOST COMMON WORDS IN US ELECTION 2020 WIKIPEDIA PAGE')\n",
        "freq.plot(20,cumulative=False)\n"
      ],
      "execution_count": 20,
      "outputs": [
        {
          "output_type": "stream",
          "text": [
            "TOP 20 MOST COMMON WORDS IN US ELECTION 2020 WIKIPEDIA PAGE\n"
          ],
          "name": "stdout"
        },
        {
          "output_type": "display_data",
          "data": {
            "image/png": "[encoded data removed]",
            "text/plain": [
              "<Figure size 432x288 with 1 Axes>"
            ]
          },
          "metadata": {
            "tags": [],
            "needs_background": "light"
          }
        }
      ]
    },
    {
      "cell_type": "code",
      "metadata": {
        "id": "_Fi1QKKCUjp8"
      },
      "source": [
        ""
      ],
      "execution_count": 18,
      "outputs": []
    }
  ]
}